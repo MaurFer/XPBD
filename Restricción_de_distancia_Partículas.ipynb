{
 "cells": [
  {
   "cell_type": "code",
   "execution_count": 504,
   "id": "7e2802e8",
   "metadata": {
    "scrolled": true
   },
   "outputs": [
    {
     "name": "stdout",
     "output_type": "stream",
     "text": [
      "Posición Inicial: \n",
      "partícula 1:  [1.5 0.  0. ]\n",
      "partícula 2:  [0. 0. 0.]\n",
      "Posición FINAL: \n",
      "partícula 1:  [1.00000455 0.         0.        ]\n",
      "partícula 2:  [4.99995448e-06 0.00000000e+00 0.00000000e+00]\n",
      "Error absoluto porcentual:  0.001012432249769546 %\n"
     ]
    },
    {
     "data": {
      "text/plain": [
       "Text(0, 0.5, '[distancia]')"
      ]
     },
     "execution_count": 504,
     "metadata": {},
     "output_type": "execute_result"
    },
    {
     "data": {
      "image/png": "[encoded data removed]",
      "text/plain": [
       "<Figure size 432x288 with 1 Axes>"
      ]
     },
     "metadata": {
      "needs_background": "light"
     },
     "output_type": "display_data"
    }
   ],
   "source": [
    "\"\"\"/*\n",
    "Copyright 2022 Mauro Fermin - af_mauro7@hotmail.com\n",
    "License  Licencia Creative Commons Atribución-CompartirIgual 4.0 Internacional.\n",
    "https://creativecommons.org/licenses/by-sa/4.0/\n",
    "Implementation of papers: \n",
    "* Macklin, Miles, Matthias Müller, and Nuttapong Chentanez. \"XPBD: position-based simulation of compliant constrained dynamics.\" Proceedings of the 9th International Conference on Motion in Games. (2016).\n",
    "* Macklin, Miles, et al. \"Small Steps in Physics Simulation.\" (2019).\n",
    "*/\"\"\"\n",
    "\n",
    "import numpy as np\n",
    "import math as m\n",
    "import matplotlib.pyplot as plt\n",
    "\n",
    "gData = []\n",
    "\n",
    "time_step = 0.001 #timestep \n",
    "Iteration = 100 #iterations\n",
    "\n",
    "restLen=1.0 # distancia de aproximación\n",
    "\n",
    "compliance = 0.001\n",
    "dt = 1/60.0 # frames\n",
    "#~α=α/Δt^2 \n",
    "alpha = compliance /dt/dt\n",
    "\n",
    "\n",
    "class particle:\n",
    "    def __init__(self, pos, m):\n",
    "        self.m = m\n",
    "        self.w = 1.0/self.m\n",
    "        self.x = np.array(pos)\n",
    "        self.p = np.array(pos)\n",
    "        self.v = np.array([0.0, 0.0, 0.0])\n",
    "        self.f = np.array([0.0, 0.0, 0.0])\n",
    "        \n",
    "    def getPos(self):\n",
    "        return self.x\n",
    "    \n",
    "    def printPos(self):\n",
    "        print(self.x)\n",
    "\n",
    "\n",
    "particles =[]\n",
    "particles.append(particle([1.5,0.0,0.0], 1.0))\n",
    "particles.append(particle([0.0,0.0,0.0], 100000))\n",
    "\n",
    "#(Ec.6 at. M.Macklin)\n",
    "dtIt=time_step/Iteration\n",
    "\n",
    "print(\"Posición Inicial: \")\n",
    "print(\"partícula 1: \", particles[0].getPos())\n",
    "print(\"partícula 2: \", particles[1].getPos())\n",
    "\n",
    "for i in range(Iteration):\n",
    "    \n",
    "    #Predicción de posición usando cálculo de velocidad siguiente: \n",
    "    #x ⇐ x^n + ∆t_s v^n + ∆t_s^2 M^{-1}f_{ext}(x^n)\n",
    "    \n",
    "    # Calculo de la velocidad siguiente\n",
    "    for particle in particles:\n",
    "            #v[]= v[]+f[]*dtIt*(1/m)\n",
    "            particle.v = particle.v+ particle.f*dtIt*particle.w\n",
    "    \n",
    "    # Predicción de posición usando velocidad calculada\n",
    "    for particle in particles:\n",
    "        #p[] = x[] + v[]* dtIt\n",
    "        particle.p = particle.x + particle.v * dtIt\n",
    "    \n",
    "   \n",
    "    #Calculo de gradiente:\n",
    "    # ∆λ using Eq (7)\n",
    "    grad = np.array([particles[0].p[0] - particles[1].p[0], \n",
    "                     particles[0].p[1] - particles[1].p[1], \n",
    "                     particles[0].p[2] - particles[1].p[2]])\n",
    "    \n",
    "    #normalización de gradiente\n",
    "    length = m.sqrt(grad[0]**2 + grad[1]**2 + grad[2]**2)\n",
    "    grad /=length\n",
    "    \n",
    "    C =length - restLen\n",
    "    w = particles[0].w+particles[1].w\n",
    "    \n",
    "    # ∆λi = −Ci(x) / [ ∇Ci M^(-1) ∇Ci^T + ̃α_i]   (Ec. 7 at. M.Macklin)\n",
    "    lagrangeMultiplier = -C /(w+alpha)\n",
    "\n",
    "    #Cálculo vector desplazamiento\n",
    "    #∆x = ∇C(xi)^T ∆λ M^(-1) (Ec.17 at. M.Müller or Ec. 4 M.Mackin)\n",
    "    particles[0].p += grad *( lagrangeMultiplier) * particles[0].w\n",
    "    particles[1].p += grad *(-lagrangeMultiplier) * particles[1].w\n",
    "    \n",
    "\n",
    "    #Actualización de las velocidades\n",
    "    # v^{n+1} ⇐ 1/∆t_s * (x^{n+1} − x^n)\n",
    "    for particle in particles:\n",
    "        temp = particle.p - particle.x\n",
    "        particle.v = (1.0/dtIt)*temp\n",
    "\n",
    "        particle.x = particle.p\n",
    "        \n",
    "    mod1 = m.sqrt(particles[0].getPos()[0]**2+particles[0].getPos()[1]**2+particles[0].getPos()[2]**2)\n",
    "    mod2 = m.sqrt(particles[1].getPos()[0]**2+particles[1].getPos()[1]**2+particles[1].getPos()[2]**2)\n",
    "    #print(mod1+mod2)\n",
    "    data= abs(mod1+mod2)\n",
    "    gData.append(data)\n",
    "        \n",
    "\n",
    "print(\"Posición FINAL: \")\n",
    "print(\"partícula 1: \", particles[0].getPos())\n",
    "print(\"partícula 2: \", particles[1].getPos())\n",
    "\n",
    " \n",
    "mod1 = m.sqrt(particles[0].getPos()[0]**2+particles[0].getPos()[1]**2+particles[0].getPos()[2]**2)\n",
    "mod2 = m.sqrt(particles[1].getPos()[0]**2+particles[1].getPos()[1]**2+particles[1].getPos()[2]**2)\n",
    "#print(mod1+mod2)\n",
    "Er_abs= abs((length-(mod1+mod2))/1.0*100)\n",
    "print(\"Error absoluto porcentual: \",Er_abs, \"%\")\n",
    "\n",
    "\n",
    "fig = plt.figure()\n",
    "ax = fig.add_subplot(111)\n",
    "hl, = plt.plot(gData)\n",
    "plt.title(\"Distancias entre partículas en subPasos\")\n",
    "plt.xlabel(\"[subPaso]\")\n",
    "plt.ylabel(\"[distancia]\")\n",
    "        "
   ]
  }
 ],
 "metadata": {
  "kernelspec": {
   "display_name": "Python 3 (ipykernel)",
   "language": "python",
   "name": "python3"
  },
  "language_info": {
   "codemirror_mode": {
    "name": "ipython",
    "version": 3
   },
   "file_extension": ".py",
   "mimetype": "text/x-python",
   "name": "python",
   "nbconvert_exporter": "python",
   "pygments_lexer": "ipython3",
   "version": "3.9.12"
  }
 },
 "nbformat": 4,
 "nbformat_minor": 5
}
